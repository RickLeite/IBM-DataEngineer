{
 "cells": [
  {
   "cell_type": "code",
   "execution_count": 1,
   "metadata": {},
   "outputs": [],
   "source": [
    "import glob\n",
    "import polars as pl\n",
    "from datetime import datetime\n",
    "import json"
   ]
  },
  {
   "cell_type": "code",
   "execution_count": 2,
   "metadata": {},
   "outputs": [
    {
     "name": "stdout",
     "output_type": "stream",
     "text": [
      "--2023-06-15 10:09:04--  https://cf-courses-data.s3.us.cloud-object-storage.appdomain.cloud/IBMDeveloperSkillsNetwork-PY0221EN-SkillsNetwork/labs/module%206/Lab%20-%20Extract%20Transform%20Load/data/bank_market_cap_1.json\n",
      "Resolving cf-courses-data.s3.us.cloud-object-storage.appdomain.cloud (cf-courses-data.s3.us.cloud-object-storage.appdomain.cloud)... 169.63.118.104\n",
      "Connecting to cf-courses-data.s3.us.cloud-object-storage.appdomain.cloud (cf-courses-data.s3.us.cloud-object-storage.appdomain.cloud)|169.63.118.104|:443... "
     ]
    },
    {
     "name": "stdout",
     "output_type": "stream",
     "text": [
      "connected.\n",
      "HTTP request sent, awaiting response... 200 OK\n",
      "Length: 2815 (2,7K) [application/json]\n",
      "Saving to: ‘03_ETL-data/source/bank_market_cap_1.json’\n",
      "\n",
      "bank_market_cap_1.j 100%[===================>]   2,75K  --.-KB/s    in 0s      \n",
      "\n",
      "2023-06-15 10:09:05 (751 MB/s) - ‘03_ETL-data/source/bank_market_cap_1.json’ saved [2815/2815]\n",
      "\n",
      "--2023-06-15 10:09:05--  https://cf-courses-data.s3.us.cloud-object-storage.appdomain.cloud/IBMDeveloperSkillsNetwork-PY0221EN-SkillsNetwork/labs/module%206/Lab%20-%20Extract%20Transform%20Load/data/bank_market_cap_2.json\n",
      "Resolving cf-courses-data.s3.us.cloud-object-storage.appdomain.cloud (cf-courses-data.s3.us.cloud-object-storage.appdomain.cloud)... 169.63.118.104\n",
      "Connecting to cf-courses-data.s3.us.cloud-object-storage.appdomain.cloud (cf-courses-data.s3.us.cloud-object-storage.appdomain.cloud)|169.63.118.104|:443... connected.\n",
      "HTTP request sent, awaiting response... 200 OK\n",
      "Length: 1429 (1,4K) [application/json]\n",
      "Saving to: ‘03_ETL-data/source/bank_market_cap_2.json’\n",
      "\n",
      "bank_market_cap_2.j 100%[===================>]   1,40K  --.-KB/s    in 0s      \n",
      "\n",
      "2023-06-15 10:09:06 (436 MB/s) - ‘03_ETL-data/source/bank_market_cap_2.json’ saved [1429/1429]\n",
      "\n",
      "--2023-06-15 10:09:06--  https://cf-courses-data.s3.us.cloud-object-storage.appdomain.cloud/IBMDeveloperSkillsNetwork-PY0221EN-SkillsNetwork/labs/module%206/Final%20Assignment/exchange_rates.csv\n",
      "Resolving cf-courses-data.s3.us.cloud-object-storage.appdomain.cloud (cf-courses-data.s3.us.cloud-object-storage.appdomain.cloud)... 169.63.118.104\n",
      "Connecting to cf-courses-data.s3.us.cloud-object-storage.appdomain.cloud (cf-courses-data.s3.us.cloud-object-storage.appdomain.cloud)|169.63.118.104|:443... connected.\n",
      "HTTP request sent, awaiting response... 200 OK\n",
      "Length: 590 [text/csv]\n",
      "Saving to: ‘03_ETL-data/source/exchange_rates.csv’\n",
      "\n",
      "exchange_rates.csv  100%[===================>]     590  --.-KB/s    in 0s      \n",
      "\n",
      "2023-06-15 10:09:07 (132 MB/s) - ‘03_ETL-data/source/exchange_rates.csv’ saved [590/590]\n",
      "\n"
     ]
    }
   ],
   "source": [
    "!wget -P 03_ETL-data/source/ https://cf-courses-data.s3.us.cloud-object-storage.appdomain.cloud/IBMDeveloperSkillsNetwork-PY0221EN-SkillsNetwork/labs/module%206/Lab%20-%20Extract%20Transform%20Load/data/bank_market_cap_1.json\n",
    "!wget -P 03_ETL-data/source/ https://cf-courses-data.s3.us.cloud-object-storage.appdomain.cloud/IBMDeveloperSkillsNetwork-PY0221EN-SkillsNetwork/labs/module%206/Lab%20-%20Extract%20Transform%20Load/data/bank_market_cap_2.json\n",
    "!wget -P 03_ETL-data/source/ https://cf-courses-data.s3.us.cloud-object-storage.appdomain.cloud/IBMDeveloperSkillsNetwork-PY0221EN-SkillsNetwork/labs/module%206/Final%20Assignment/exchange_rates.csv"
   ]
  },
  {
   "cell_type": "code",
   "execution_count": 3,
   "metadata": {},
   "outputs": [],
   "source": [
    "folder_path = \"03_ETL-data\"\n",
    "sourcefolder  = f\"{folder_path}/source/\"               \n",
    "logfile    = f\"{folder_path}/logfile.txt\"            \n",
    "target_file = f\"{folder_path}/bank_market_cap_gbp.csv\""
   ]
  },
  {
   "attachments": {},
   "cell_type": "markdown",
   "metadata": {},
   "source": [
    "#### Extract"
   ]
  },
  {
   "cell_type": "code",
   "execution_count": 4,
   "metadata": {},
   "outputs": [],
   "source": [
    "def extract_from_json(file_to_process, columns):\n",
    "    with open(file_to_process) as file:\n",
    "        data = json.load(file)   \n",
    "\n",
    "    column_values = [data[columns[0]], data[columns[1]]]\n",
    "\n",
    "    unwrapped_data = {}\n",
    "\n",
    "    for column in columns:\n",
    "        unwrapped_data[column] = [value for _, value in column_values[columns.index(column)].items()]\n",
    "\n",
    "    df = pl.DataFrame(unwrapped_data)\n",
    "\n",
    "\n",
    "    return df"
   ]
  },
  {
   "cell_type": "code",
   "execution_count": 5,
   "metadata": {},
   "outputs": [],
   "source": [
    "def extract_from_csv(file_to_process):\n",
    "    df = pl.read_csv(file_to_process)\n",
    "    return df"
   ]
  },
  {
   "cell_type": "code",
   "execution_count": 6,
   "metadata": {},
   "outputs": [],
   "source": [
    "def extract(path):\n",
    "\n",
    "    print(path)\n",
    "\n",
    "    csv_columns = ['Symbol','Rates']\n",
    "\n",
    "    json_columns = ['Name','Market Cap (US$ Billion)']\n",
    "    \n",
    "    exchange_rates = None\n",
    "    bank_market = None\n",
    "\n",
    "\n",
    "    for csvfile in glob.glob(path + \"/*.csv\"):\n",
    "        extract_csv = extract_from_csv(csvfile)\n",
    "        exchange_rates = pl.DataFrame({\n",
    "                csv_columns[0]:   extract_csv[extract_csv.columns[0]],\n",
    "                csv_columns[1]: extract_csv['Rates']\n",
    "            })\n",
    "    \n",
    "\n",
    "    for jsonfile in glob.glob(path + \"/*.json\"):\n",
    "        extract_json = extract_from_json(jsonfile, json_columns)\n",
    "        try:\n",
    "            bank_market = extract_json.select(\n",
    "                    pl.col(\"Name\").cast(pl.Utf8),\n",
    "                    pl.col(\"Market Cap (US$ Billion)\").cast(pl.Float64)\n",
    "                )\n",
    "        except Exception as e:\n",
    "            print(e)\n",
    "            \n",
    "\n",
    "    return exchange_rates, bank_market"
   ]
  },
  {
   "attachments": {},
   "cell_type": "markdown",
   "metadata": {},
   "source": [
    "## Transform\n",
    "\n",
    "Using <code>exchange_rate</code> and the `exchange_rates.csv` file find the exchange rate of USD to GBP. Write a transform function that\n",
    "\n",
    "1. Changes the `Market Cap (US$ Billion)` column from USD to GBP\n",
    "2. Rounds the Market Cap (US$ Billion)` column to 3 decimal places\n",
    "3. `Market Cap (US$ Billion)` and  `Market Cap (GBP$ Billion)`\n"
   ]
  },
  {
   "cell_type": "code",
   "execution_count": 7,
   "metadata": {},
   "outputs": [],
   "source": [
    "def transform(exchange_rates, bank_market):\n",
    "    exchange_rate = exchange_rates.filter(pl.col(exchange_rates.columns[0]) == 'GBP')\n",
    "    exchange_rate_value = exchange_rate['Rates'][0]\n",
    "    print(f\"GBP exchange rate from USD: {exchange_rate_value}\")\n",
    "\n",
    "    bank_market = (\n",
    "        bank_market\n",
    "            .with_columns((\n",
    "                (pl.col('Market Cap (US$ Billion)') * exchange_rate_value)\n",
    "            ).round(3)\n",
    "            .alias('Market Cap (GBP$ Billion)'))\n",
    "        )\n",
    "    \n",
    "    return bank_market"
   ]
  },
  {
   "attachments": {},
   "cell_type": "markdown",
   "metadata": {},
   "source": [
    "#### Load"
   ]
  },
  {
   "cell_type": "code",
   "execution_count": 8,
   "metadata": {},
   "outputs": [],
   "source": [
    "def load(targetfile, data_to_load):\n",
    "    data_to_load.write_csv(targetfile)"
   ]
  },
  {
   "attachments": {},
   "cell_type": "markdown",
   "metadata": {},
   "source": [
    "#### Logging Function"
   ]
  },
  {
   "cell_type": "code",
   "execution_count": 9,
   "metadata": {},
   "outputs": [],
   "source": [
    "def log(message):\n",
    "    timestamp_format = '%Y-%h-%d-%H:%M:%S'\n",
    "    now = datetime.now()\n",
    "    timestamp = now.strftime(timestamp_format)\n",
    "    with open(logfile,\"a\") as f:\n",
    "        f.write(timestamp + ',' + message + '\\n')"
   ]
  },
  {
   "attachments": {},
   "cell_type": "markdown",
   "metadata": {},
   "source": [
    "#### Running ETL"
   ]
  },
  {
   "cell_type": "code",
   "execution_count": 10,
   "metadata": {},
   "outputs": [],
   "source": [
    "log(\"ETL Job Started\")"
   ]
  },
  {
   "cell_type": "code",
   "execution_count": 11,
   "metadata": {},
   "outputs": [
    {
     "name": "stdout",
     "output_type": "stream",
     "text": [
      "03_ETL-data/source/\n"
     ]
    }
   ],
   "source": [
    "log(\"Extract phase Started\")\n",
    "exchange_rates, bank_market = extract(sourcefolder)\n",
    "log(\"Extract phase Ended\")"
   ]
  },
  {
   "cell_type": "code",
   "execution_count": 12,
   "metadata": {},
   "outputs": [
    {
     "name": "stdout",
     "output_type": "stream",
     "text": [
      "GBP exchange rate from USD: 0.7323984208000001\n"
     ]
    },
    {
     "data": {
      "text/html": [
       "<div><style>\n",
       ".dataframe > thead > tr > th,\n",
       ".dataframe > tbody > tr > td {\n",
       "  text-align: right;\n",
       "}\n",
       "</style>\n",
       "<small>shape: (5, 3)</small><table border=\"1\" class=\"dataframe\"><thead><tr><th>Name</th><th>Market Cap (US$ Billion)</th><th>Market Cap (GBP$ Billion)</th></tr><tr><td>str</td><td>f64</td><td>f64</td></tr></thead><tbody><tr><td>&quot;JPMorgan Chase…</td><td>390.934</td><td>286.319</td></tr><tr><td>&quot;Industrial and…</td><td>345.214</td><td>252.834</td></tr><tr><td>&quot;Bank of Americ…</td><td>325.331</td><td>238.272</td></tr><tr><td>&quot;Wells Fargo&quot;</td><td>308.013</td><td>225.588</td></tr><tr><td>&quot;China Construc…</td><td>257.399</td><td>188.519</td></tr></tbody></table></div>"
      ],
      "text/plain": [
       "shape: (5, 3)\n",
       "┌───────────────────────────────────┬──────────────────────────┬───────────────────────────┐\n",
       "│ Name                              ┆ Market Cap (US$ Billion) ┆ Market Cap (GBP$ Billion) │\n",
       "│ ---                               ┆ ---                      ┆ ---                       │\n",
       "│ str                               ┆ f64                      ┆ f64                       │\n",
       "╞═══════════════════════════════════╪══════════════════════════╪═══════════════════════════╡\n",
       "│ JPMorgan Chase                    ┆ 390.934                  ┆ 286.319                   │\n",
       "│ Industrial and Commercial Bank o… ┆ 345.214                  ┆ 252.834                   │\n",
       "│ Bank of America                   ┆ 325.331                  ┆ 238.272                   │\n",
       "│ Wells Fargo                       ┆ 308.013                  ┆ 225.588                   │\n",
       "│ China Construction Bank           ┆ 257.399                  ┆ 188.519                   │\n",
       "└───────────────────────────────────┴──────────────────────────┴───────────────────────────┘"
      ]
     },
     "execution_count": 12,
     "metadata": {},
     "output_type": "execute_result"
    }
   ],
   "source": [
    "log(\"Transform phase Started\")\n",
    "transformed_data = transform(exchange_rates, bank_market)\n",
    "log(\"Transform phase Ended\")\n",
    "transformed_data.head(5)"
   ]
  },
  {
   "cell_type": "code",
   "execution_count": 13,
   "metadata": {},
   "outputs": [],
   "source": [
    "log(\"Load phase Started\")\n",
    "load(target_file, transformed_data)\n",
    "log(\"Load phase Ended\")"
   ]
  },
  {
   "cell_type": "code",
   "execution_count": 14,
   "metadata": {},
   "outputs": [],
   "source": [
    "log(\"ETL Job Ended\")"
   ]
  }
 ],
 "metadata": {
  "kernelspec": {
   "display_name": "Python 3",
   "language": "python",
   "name": "python3"
  },
  "language_info": {
   "codemirror_mode": {
    "name": "ipython",
    "version": 3
   },
   "file_extension": ".py",
   "mimetype": "text/x-python",
   "name": "python",
   "nbconvert_exporter": "python",
   "pygments_lexer": "ipython3",
   "version": "3.10.6"
  },
  "orig_nbformat": 4
 },
 "nbformat": 4,
 "nbformat_minor": 2
}
